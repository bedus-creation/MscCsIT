{
 "cells": [
  {
   "cell_type": "markdown",
   "metadata": {},
   "source": [
    "### XOR Implemetation using multilayer perceptron "
   ]
  },
  {
   "cell_type": "code",
   "execution_count": 1,
   "metadata": {},
   "outputs": [],
   "source": [
    "#### Import required libraries\n",
    "import numpy as np\n",
    "import matplotlib.pyplot as plt\n",
    "from MultilayerPerceptron import MultilayerPerceptron"
   ]
  },
  {
   "cell_type": "code",
   "execution_count": 2,
   "metadata": {},
   "outputs": [],
   "source": [
    "#Input datasets\n",
    "inputs = np.array([[0,0],[0,1],[1,0],[1,1]])\n",
    "labels = np.array([[0],[1],[1],[0]])"
   ]
  },
  {
   "cell_type": "code",
   "execution_count": 4,
   "metadata": {},
   "outputs": [
    {
     "name": "stdout",
     "output_type": "stream",
     "text": [
      "inputs [[0 0]] Output 1\n",
      "inputs [[0 1]] Output 1\n",
      "inputs [[1 0]] Output 1\n",
      "inputs [[1 1]] Output 1\n"
     ]
    }
   ],
   "source": [
    "inputs = np.array([[0, 0]])\n",
    "print(\"inputs \"+str(inputs)+\" Output \"+str(perceptron.predict(inputs)))\n",
    "\n",
    "inputs = np.array([[0, 1]])\n",
    "print(\"inputs \"+str(inputs)+\" Output \"+str(perceptron.predict(inputs)))\n",
    "\n",
    "inputs = np.array([[1, 0]])\n",
    "print(\"inputs \"+str(inputs)+\" Output \"+str(perceptron.predict(inputs)))\n",
    "\n",
    "inputs = np.array([[1, 1]])\n",
    "print(\"inputs \"+str(inputs)+\" Output \"+str(perceptron.predict(inputs)))"
   ]
  },
  {
   "cell_type": "code",
   "execution_count": 5,
   "metadata": {},
   "outputs": [
    {
     "data": {
      "text/plain": [
       "[<matplotlib.lines.Line2D at 0x7f06f5c06b38>]"
      ]
     },
     "execution_count": 5,
     "metadata": {},
     "output_type": "execute_result"
    },
    {
     "data": {
      "image/png": "[encoded data removed]",
      "text/plain": [
       "<Figure size 432x288 with 1 Axes>"
      ]
     },
     "metadata": {
      "needs_background": "light"
     },
     "output_type": "display_data"
    }
   ],
   "source": [
    "error= perceptron.getErrors();\n",
    "plt.plot(error)"
   ]
  }
 ],
 "metadata": {
  "kernelspec": {
   "display_name": "Python 3",
   "language": "python",
   "name": "python3"
  },
  "language_info": {
   "codemirror_mode": {
    "name": "ipython",
    "version": 3
   },
   "file_extension": ".py",
   "mimetype": "text/x-python",
   "name": "python",
   "nbconvert_exporter": "python",
   "pygments_lexer": "ipython3",
   "version": "3.7.3"
  }
 },
 "nbformat": 4,
 "nbformat_minor": 2
}
